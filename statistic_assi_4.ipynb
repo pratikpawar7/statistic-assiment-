{
 "cells": [
  {
   "cell_type": "code",
   "execution_count": null,
   "id": "22cf30c4-d9fc-48a4-abd5-b155d3a47ba1",
   "metadata": {},
   "outputs": [],
   "source": [
    "'''\n",
    "Q1: What are the Probability Mass Function (PMF) and Probability Density Function (PDF)? Explain with\n",
    "an example.\n",
    "'''\n",
    "A PMF is a function that maps each possible outcome of a discrete random variable to its probability. \n",
    "In other words, it gives the probability of each discrete value that a random variable can take.\n",
    "For example, consider rolling a fair six-sided die.\n",
    "\n",
    "A PDF, on the other hand, is a function that describes the relative likelihood of a continuous random variable taking on a particular value. \n",
    "In other words, it gives the probability density of each value that a continuous random variable can take.\n",
    "For example, consider the height of adult women in a particular population"
   ]
  },
  {
   "cell_type": "code",
   "execution_count": null,
   "id": "0b16c69c-cb11-476e-b6b1-63dfa338ceab",
   "metadata": {},
   "outputs": [],
   "source": [
    "'''\n",
    "Q2: What is Cumulative Density Function (CDF)? Explain with an example. Why CDF is used?\n",
    "'''\n",
    "cumulative density function is a function that gives the probability that a random variable X is less than a certain variable x . \n",
    "the CDF is define for both contineous and discreate variable. \n",
    "\n",
    "example : \n",
    "    consider rolling a fair six-sided die. The CDF for this random variable would be a function that describes the \n",
    "    probability of rolling a number less than or equal to x, for any value of x between 1 and 6."
   ]
  },
  {
   "cell_type": "code",
   "execution_count": null,
   "id": "d1d66f2d-455b-4cc2-ba2a-033539eb11d9",
   "metadata": {},
   "outputs": [],
   "source": [
    "'''\n",
    "Q3: What are some examples of situations where the normal distribution might be used as a model?\n",
    "Explain how the parameters of the normal distribution relate to the shape of the distribution.\n",
    "'''\n",
    "\n",
    "where the normal distribution might be used as a model include:\n",
    "\n",
    "1.Heights of individuals in a population\n",
    "2.Weights of objects or animals in a population\n",
    "3.Scores on standardized tests\n",
    "4.Errors in measurements or experimental data\n",
    "5.Daily returns on stock prices\n",
    "6.IQ scores\n",
    "7.Blood pressure readings\n",
    "\n",
    "\n",
    "The normal distribution is characterized by two parameters: \n",
    "    The mean (μ) and the standard deviation (σ).\n",
    "   The mean represents the center of the distribut\n",
    "   while the standard deviation represents the spread of the data around the mean\n"
   ]
  },
  {
   "cell_type": "code",
   "execution_count": null,
   "id": "b8a90d04-c1bf-45a9-a589-3e3b860dd996",
   "metadata": {},
   "outputs": [],
   "source": [
    "'''\n",
    "Q4: Explain the importance of Normal Distribution. Give a few real-life examples of Normal\n",
    "Distribution.\n",
    "'''\n",
    "The normal distribution is an important statistical concept and mathematical model that is used in a wide range of \n",
    "fields, including science, engineering, economics, and finance. Some of the key reasons for its importance are:\n",
    "    \n",
    "    1.Many natural phenomena and random variables follow a normal distribution.\n",
    "    2.It simplifies statistical analysis.\n",
    "    3.It facilitates hypothesis testing and inference.\n",
    "    \n"
   ]
  },
  {
   "cell_type": "code",
   "execution_count": null,
   "id": "2d8f8204-d416-47af-8e09-787b04030d49",
   "metadata": {},
   "outputs": [],
   "source": [
    "'''\n",
    "Q5: What is Bernaulli Distribution? Give an Example. What is the difference between Bernoulli\n",
    "Distribution and Binomial Distribution?\n",
    "'''\n",
    "\n",
    "\n",
    "Difference : \n",
    "    1.Number of trials: Bernoulli Distribution has only one trial, \n",
    "                    while Binomial Distribution has multiple independent and identical trials.\n",
    "\n",
    "   2.Outcome: Bernoulli Distribution has only two possible outcomes, either success or failure, \n",
    "             while Binomial Distribution has multiple possible outcomes.\n",
    "\n",
    "  3.Parameters: Bernoulli Distribution has only one parameter (p), \n",
    "              while Binomial Distribution has two parameters (n and p). \n",
    "              The parameter n represents the number of trials, and p represents the probability of success for each trial.\n"
   ]
  },
  {
   "cell_type": "code",
   "execution_count": null,
   "id": "009367b6-d2cd-49c7-92e0-70b7a45702e9",
   "metadata": {},
   "outputs": [],
   "source": [
    "'''\n",
    "Q6. Consider a dataset with a mean of 50 and a standard deviation of 10. If we assume that the dataset\n",
    "is normally distributed, what is the probability that a randomly selected observation will be greater\n",
    "than 60? Use the appropriate formula and show your calculations.\n",
    "'''\n",
    "  mean = 50 \n",
    "  standard deviation = 10 \n",
    "\n",
    "by using the z-score fromula. \n",
    "            \n",
    "            Xi- mean \n",
    "Z-score =  ----------\n",
    "             std \n",
    "     \n",
    "         60-50\n",
    "    ==  --------\n",
    "          10 \n",
    "        \n",
    "    == 1 \n",
    "\n",
    "    value of 1 in the z-table is 0.84134\n",
    "    \n",
    "    hence we subtract it from the 1 \n",
    "    \n",
    "     = 1- 0. 84134\n",
    "    =  0.1586 \n",
    "    \n",
    "    it means 15.86%  chances of randamly selected observation  will be greater than the 60 . \n",
    "           "
   ]
  },
  {
   "cell_type": "code",
   "execution_count": null,
   "id": "ecc01ea8-8778-4107-8c40-b3e8559262cb",
   "metadata": {},
   "outputs": [],
   "source": [
    "'''\n",
    "Q7: Explain uniform Distribution with an example.\n",
    "'''\n",
    "\n",
    "\n",
    "uniform distribution is the distribution in which the probability of getting outcome is equal . \n",
    "\n",
    "An example: uniform distribution is rolling a fair six-sided die.\n",
    "    Each outcome (1 , 2, 3, 4, 5, or 6) has an equal probability of 1/6 of occurring, and no outcome is more likely than any other. \n",
    "    This can be represented by the uniform distribution with a range of 1 to 6."
   ]
  },
  {
   "cell_type": "code",
   "execution_count": null,
   "id": "24ceedbb-03d2-41e1-baf2-5366ce50c6b2",
   "metadata": {},
   "outputs": [],
   "source": [
    "'''\n",
    "Q8: What is the z score? State the importance of the z score.\n",
    "'''\n",
    "\n",
    "The z-score, also known as the standard score, is a measure of how many standard deviations an observation or\n",
    "data point is away from the mean of the distribution. \n",
    "It is calculated by subtracting the mean from the observation and then dividing by the standard deviation:\n",
    "    \n",
    "            Xi- μ  \n",
    "Z-score =  ----------\n",
    "             std "
   ]
  },
  {
   "cell_type": "code",
   "execution_count": null,
   "id": "2eda5519-f403-447f-9851-d1261a2c1da3",
   "metadata": {},
   "outputs": [],
   "source": [
    "'''\n",
    "Q9: What is Central Limit Theorem? State the significance of the Central Limit Theorem.\n",
    "'''\n",
    "\n",
    "The central limit theorem says that sampling distribution of the mean is always nomally distributed . \n",
    "as long as the sample size is large enough.\n",
    "regard less of population has a normal , binomial , or poission the sample data distribution be always be normal \n",
    "\n",
    "\n"
   ]
  },
  {
   "cell_type": "code",
   "execution_count": null,
   "id": "db8e7c8c-2982-4f1b-9f50-f91d5c87ed87",
   "metadata": {},
   "outputs": [],
   "source": [
    "'''\n",
    "Q10: State the assumptions of the Central Limit Theorem.\n",
    "'''\n",
    "\n",
    "1.Independence: The observations in the sample are independent of each other.\n",
    "\n",
    "2.Random Sampling: The sample is drawn at random from the population of interest.\n",
    "\n",
    "3.Finite Population or Sample Size: The sample size is small relative to the population size or is finite.\n",
    "\n"
   ]
  }
 ],
 "metadata": {
  "kernelspec": {
   "display_name": "Python 3 (ipykernel)",
   "language": "python",
   "name": "python3"
  },
  "language_info": {
   "codemirror_mode": {
    "name": "ipython",
    "version": 3
   },
   "file_extension": ".py",
   "mimetype": "text/x-python",
   "name": "python",
   "nbconvert_exporter": "python",
   "pygments_lexer": "ipython3",
   "version": "3.10.8"
  }
 },
 "nbformat": 4,
 "nbformat_minor": 5
}
