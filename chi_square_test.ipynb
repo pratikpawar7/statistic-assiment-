{
 "cells": [
  {
   "cell_type": "code",
   "execution_count": 1,
   "id": "cc1d2b50-4f4e-4409-90d1-de340236a3bd",
   "metadata": {},
   "outputs": [
    {
     "data": {
      "text/plain": [
       "(48.210805856282846, 51.789194143717154)"
      ]
     },
     "execution_count": 1,
     "metadata": {},
     "output_type": "execute_result"
    }
   ],
   "source": [
    "'''\n",
    "Q1. Calculate the 95% confidence interval for a sample of data with a mean of 50 and a standard deviation\n",
    "of 5 using Python.\n",
    "'''\n",
    "import scipy.stats as stats\n",
    "import numpy as np\n",
    "\n",
    "# Given data\n",
    "mean = 50\n",
    "std_dev = 5\n",
    "n = 30  # Sample size\n",
    "\n",
    "# Z-score for 95% confidence interval\n",
    "z = stats.norm.ppf(0.975)  # 95% confidence level\n",
    "\n",
    "# Calculate the margin of error\n",
    "margin_of_error = z * (std_dev / np.sqrt(n))\n",
    "\n",
    "# Confidence interval\n",
    "lower_bound = mean - margin_of_error\n",
    "upper_bound = mean + margin_of_error\n",
    "\n",
    "(lower_bound, upper_bound)\n"
   ]
  },
  {
   "cell_type": "code",
   "execution_count": 2,
   "id": "5d6a3cb2-e9f8-48cd-ae0e-e31a9f4e4b57",
   "metadata": {},
   "outputs": [
    {
     "data": {
      "text/plain": [
       "(1.05, 0.958432957021464)"
      ]
     },
     "execution_count": 2,
     "metadata": {},
     "output_type": "execute_result"
    }
   ],
   "source": [
    "'''\n",
    "Q2. Conduct a chi-square goodness of fit test to determine if the distribution of colors of M&Ms in a bag\n",
    "matches the expected distribution of 20% blue, 20% orange, 20% green, 10% yellow, 10% red, and 20%\n",
    "brown. Use Python to perform the test with a significance level of 0.05.\n",
    "'''\n",
    "import scipy.stats as stats\n",
    "\n",
    "# Observed counts (example)\n",
    "observed_counts = [23, 19, 21, 9, 8, 20]  # Blue, Orange, Green, Yellow, Red, Brown\n",
    "\n",
    "# Expected proportions\n",
    "expected_proportions = [0.20, 0.20, 0.20, 0.10, 0.10, 0.20]\n",
    "\n",
    "# Total number of M&Ms\n",
    "total_mms = sum(observed_counts)\n",
    "\n",
    "# Expected counts\n",
    "expected_counts = [p * total_mms for p in expected_proportions]\n",
    "\n",
    "# Perform Chi-Square goodness of fit test\n",
    "chi2_stat, p_value = stats.chisquare(observed_counts, f_exp=expected_counts)\n",
    "\n",
    "# Output the results\n",
    "chi2_stat, p_value\n"
   ]
  },
  {
   "cell_type": "code",
   "execution_count": 3,
   "id": "e615f89e-0a0d-4d3b-bae9-3d6c4d26ba99",
   "metadata": {},
   "outputs": [
    {
     "data": {
      "text/plain": [
       "(5.833333333333334,\n",
       " 0.05411376622282158,\n",
       " 2,\n",
       " array([[15., 20.],\n",
       "        [15., 20.],\n",
       "        [15., 20.]]))"
      ]
     },
     "execution_count": 3,
     "metadata": {},
     "output_type": "execute_result"
    }
   ],
   "source": [
    "'''\n",
    "Q3. Use Python to calculate the chi-square statistic and p-value for a contingency table with the following\n",
    "            Group A group B  \n",
    "data:\n",
    "            Outcome 1 20 15\n",
    "            Outcome 2 10 25\n",
    "            Outcome 3 15 20 \n",
    "            \n",
    "''''\n",
    "import scipy.stats as stats\n",
    "import numpy as np\n",
    "\n",
    "# Define the observed data as a 2D array (contingency table)\n",
    "observed = np.array([[20, 15],\n",
    "                     [10, 25],\n",
    "                     [15, 20]])\n",
    "\n",
    "# Perform the Chi-Square test of independence\n",
    "chi2_stat, p_value, dof, expected = stats.chi2_contingency(observed)\n",
    "\n",
    "# Output the results\n",
    "chi2_stat, p_value, dof, expected\n"
   ]
  },
  {
   "cell_type": "code",
   "execution_count": 4,
   "id": "113be87f-5bd2-4336-8452-99dd302c3ac4",
   "metadata": {},
   "outputs": [
    {
     "data": {
      "text/plain": [
       "(0.09151638887130707, 0.1484836111286929)"
      ]
     },
     "execution_count": 4,
     "metadata": {},
     "output_type": "execute_result"
    }
   ],
   "source": [
    "'''\n",
    "Q4. A study of the prevalence of smoking in a population of 500 individuals found that 60 individuals\n",
    "smoked. Use Python to calculate the 95% confidence interval for the true proportion of individuals in the\n",
    "population who smoke.\n",
    "'''\n",
    "import numpy as np\n",
    "import scipy.stats as stats\n",
    "\n",
    "# Given data\n",
    "n = 500  # Total population\n",
    "smokers = 60  # Number of smokers\n",
    "\n",
    "# Sample proportion\n",
    "p_hat = smokers / n\n",
    "\n",
    "# Z-score for 95% confidence interval\n",
    "z = stats.norm.ppf(0.975)\n",
    "\n",
    "# Calculate the margin of error\n",
    "margin_of_error = z * np.sqrt((p_hat * (1 - p_hat)) / n)\n",
    "\n",
    "# Confidence interval\n",
    "lower_bound = p_hat - margin_of_error\n",
    "upper_bound = p_hat + margin_of_error\n",
    "\n",
    "(lower_bound, upper_bound)\n"
   ]
  },
  {
   "cell_type": "code",
   "execution_count": 5,
   "id": "9a13fbb4-703f-48d4-ae1e-d7ce30248d0e",
   "metadata": {},
   "outputs": [
    {
     "data": {
      "text/plain": [
       "(71.39630625889797, 78.60369374110203)"
      ]
     },
     "execution_count": 5,
     "metadata": {},
     "output_type": "execute_result"
    }
   ],
   "source": [
    "'''\n",
    "Q5. Calculate the 90% confidence interval for a sample of data with a mean of 75 and a standard deviation\n",
    "of 12 using Python. Interpret the results.\n",
    "'''\n",
    "import numpy as np\n",
    "import scipy.stats as stats\n",
    "\n",
    "# Given data\n",
    "mean = 75\n",
    "std_dev = 12\n",
    "n = 30  # Sample size\n",
    "\n",
    "# Z-score for 90% confidence interval\n",
    "z = stats.norm.ppf(0.95)  # For 90% confidence level, use 0.95 for the one-tailed Z\n",
    "\n",
    "# Calculate the margin of error\n",
    "margin_of_error = z * (std_dev / np.sqrt(n))\n",
    "\n",
    "# Confidence interval\n",
    "lower_bound = mean - margin_of_error\n",
    "upper_bound = mean + margin_of_error\n",
    "\n",
    "(lower_bound, upper_bound)\n"
   ]
  },
  {
   "cell_type": "code",
   "execution_count": 1,
   "id": "fde3a087-bca1-4333-977d-b65b6a5b6d75",
   "metadata": {},
   "outputs": [
    {
     "data": {
      "text/plain": [
       "Text(0.5, 1.0, 'Chi-Square Distribution with 10 Degrees of Freedom')"
      ]
     },
     "execution_count": 1,
     "metadata": {},
     "output_type": "execute_result"
    },
    {
     "data": {
      "image/png": "[encoded data removed]",
      "text/plain": [
       "<Figure size 576x432 with 1 Axes>"
      ]
     },
     "metadata": {
      "needs_background": "light"
     },
     "output_type": "display_data"
    }
   ],
   "source": [
    "'''\n",
    "Q6. Use Python to plot the chi-square distribution with 10 degrees of freedom. Label the axes and shade the\n",
    "area corresponding to a chi-square statistic of 15.\n",
    "'''\n",
    "import numpy as np\n",
    "import matplotlib.pyplot as plt\n",
    "from scipy.stats import chi2\n",
    "\n",
    "# Define the degrees of freedom\n",
    "df = 10\n",
    "\n",
    "# Generate x values for the chi-square distribution\n",
    "x = np.linspace(0, 30, 500)\n",
    "y = chi2.pdf(x, df)\n",
    "\n",
    "# Plot the chi-square distribution\n",
    "plt.figure(figsize=(8, 6))\n",
    "plt.plot(x, y, label=f'Chi-Square Distribution (df={df})', color='blue')\n",
    "\n",
    "# Label the axes\n",
    "plt.xlabel('Chi-Square Statistic', fontsize=12)\n",
    "plt.ylabel('Probability Density', fontsize=12)\n",
    "plt.title('Chi-Square Distribution with 10 Degrees of Freedom', fontsize=14)\n",
    "\n",
    "# Shade the area corresponding to chi-square statistic of 15\n"
   ]
  },
  {
   "cell_type": "code",
   "execution_count": 2,
   "id": "7bb69f2c-f821-44ec-8e35-624a8dd8de4f",
   "metadata": {},
   "outputs": [
    {
     "data": {
      "image/png": "[encoded data removed]",
      "text/plain": [
       "<Figure size 576x432 with 1 Axes>"
      ]
     },
     "metadata": {
      "needs_background": "light"
     },
     "output_type": "display_data"
    }
   ],
   "source": [
    "# Import necessary libraries\n",
    "import numpy as np\n",
    "import matplotlib.pyplot as plt\n",
    "from scipy.stats import chi2\n",
    "\n",
    "# Step 1: Define the degrees of freedom (df) for the Chi-Square distribution\n",
    "df = 10\n",
    "\n",
    "# Step 2: Generate x values ranging from 0 to 30 to cover a significant range of the Chi-Square distribution\n",
    "# The linspace function generates 500 evenly spaced values between 0 and 30.\n",
    "x = np.linspace(0, 30, 500)\n",
    "\n",
    "# Step 3: Calculate the Probability Density Function (PDF) values for each x value using chi2.pdf\n",
    "# The PDF provides the y-values (density) for the Chi-Square distribution at each x.\n",
    "y = chi2.pdf(x, df)\n",
    "\n",
    "# Step 4: Plot the Chi-Square distribution curve\n",
    "plt.figure(figsize=(8, 6))  # Create a figure and set its size\n",
    "plt.plot(x, y, label=f'Chi-Square Distribution (df={df})', color='blue')  # Plot the curve with a label and color\n",
    "\n",
    "# Step 5: Label the x and y axes with appropriate descriptions\n",
    "plt.xlabel('Chi-Square Statistic', fontsize=12)  # X-axis label\n",
    "plt.ylabel('Probability Density', fontsize=12)  # Y-axis label\n",
    "plt.title('Chi-Square Distribution with 10 Degrees of Freedom', fontsize=14)  # Title of the plot\n",
    "\n",
    "# Step 6: Shade the area of the distribution corresponding to Chi-Square statistic of 15 and above\n",
    "# We define x values from 15 to 30 and calculate their corresponding PDF values.\n",
    "x_fill = np.linspace(15, 30, 200)  # X values between 15 and 30\n",
    "y_fill = chi2.pdf(x_fill, df)  # Corresponding PDF values for the Chi-Square distribution\n",
    "plt.fill_between(x_fill, y_fill, color='lightblue', label='Shaded Area for Chi-Square ≥ 15')  # Shade the area\n",
    "\n",
    "# Step 7: Add a vertical line at Chi-Square statistic of 15 to indicate this point clearly\n",
    "plt.axvline(x=15, color='red', linestyle='--', label='Chi-Square = 15')  # Vertical dashed line at x=15\n",
    "\n",
    "# Step 8: Add a legend to describe the curve, shaded area, and vertical line\n",
    "plt.legend()\n",
    "\n",
    "# Step 9: Add a grid to make it easier to interpret the plot\n",
    "plt.grid(True)\n",
    "\n",
    "# Step 10: Display the plot\n",
    "plt.show()\n"
   ]
  },
  {
   "cell_type": "code",
   "execution_count": null,
   "id": "48b14279-d38f-4125-87db-5c4c770aec72",
   "metadata": {},
   "outputs": [],
   "source": []
  }
 ],
 "metadata": {
  "kernelspec": {
   "display_name": "Python 3 (ipykernel)",
   "language": "python",
   "name": "python3"
  },
  "language_info": {
   "codemirror_mode": {
    "name": "ipython",
    "version": 3
   },
   "file_extension": ".py",
   "mimetype": "text/x-python",
   "name": "python",
   "nbconvert_exporter": "python",
   "pygments_lexer": "ipython3",
   "version": "3.10.2"
  }
 },
 "nbformat": 4,
 "nbformat_minor": 5
}
